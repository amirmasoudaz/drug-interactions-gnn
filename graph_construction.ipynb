{
 "cells": [
  {
   "cell_type": "code",
   "id": "initial_id",
   "metadata": {
    "collapsed": true,
    "ExecuteTime": {
     "end_time": "2024-08-08T22:49:07.216879Z",
     "start_time": "2024-08-08T22:49:06.023460Z"
    }
   },
   "source": [
    "import os\n",
    "\n",
    "import matplotlib\n",
    "matplotlib.use('Agg')\n",
    "\n",
    "import matplotlib.pyplot as plt\n",
    "from neo4j import GraphDatabase\n",
    "import networkx as nx\n",
    "import pandas as pd\n",
    "from tqdm import tqdm\n",
    "\n",
    "from tools import Files"
   ],
   "outputs": [],
   "execution_count": 1
  },
  {
   "metadata": {
    "ExecuteTime": {
     "end_time": "2024-08-08T22:49:34.789795Z",
     "start_time": "2024-08-08T22:49:34.779654Z"
    }
   },
   "cell_type": "code",
   "source": [
    "files = Files()\n",
    "root = os.path.dirname(os.path.abspath(__name__))\n",
    "raw_path = os.path.join(root, \"data\", \"raw\")\n",
    "processed_path = os.path.join(root, \"data\", \"processed\")\n",
    "graph_path = os.path.join(root, \"data\", \"graph\")\n",
    "\n",
    "os.makedirs(processed_path, exist_ok=True)\n",
    "os.makedirs(graph_path, exist_ok=True)"
   ],
   "id": "48e6b5388939aebd",
   "outputs": [],
   "execution_count": 3
  },
  {
   "metadata": {
    "ExecuteTime": {
     "end_time": "2024-08-08T23:03:24.469567Z",
     "start_time": "2024-08-08T23:03:23.556571Z"
    }
   },
   "cell_type": "code",
   "source": [
    "# Prepare Database and Drug Interactions from The Raw Drug Interactions Data\n",
    "if os.path.exists(os.path.join(processed_path, \"database.csv\")):\n",
    "    database = files.read_df(os.path.join(processed_path, \"database.csv\"))\n",
    "    interactions = files.read_json(os.path.join(processed_path, \"interactions.json\"))\n",
    "    drugs_list = files.read_json(os.path.join(processed_path, \"drugs_list.json\"))\n",
    "else:\n",
    "    # Read Raw Drug Interactions Data\n",
    "    database = [files.read_df(os.path.join(raw_path, file)) for file in os.listdir(raw_path)]\n",
    "    \n",
    "    # Merge DataFrames\n",
    "    database = pd.concat(database, ignore_index=True)\n",
    "    database.drop(columns=[\"DDInterID_A\", \"DDInterID_B\"], inplace=True)\n",
    "    database.rename(columns={\"Drug_A\": \"A\", \"Drug_B\": \"B\", \"Level\": \"Severity\"}, inplace=True)\n",
    "    database.drop_duplicates(inplace=True)\n",
    "    \n",
    "    # Extract Drug Interactions and Drugs List\n",
    "    interactions = database.to_dict(orient=\"split\")['data']\n",
    "    drugs_list = list(set(database[\"A\"].unique().tolist() + database[\"B\"].unique().tolist()))\n",
    "\n",
    "    # Save Database, Interactions and Drugs List\n",
    "    database.to_csv(os.path.join(processed_path, \"database.csv\"), index=False)\n",
    "    files.write_json(os.path.join(processed_path, \"interactions.json\"), interactions)\n",
    "    files.write_json(os.path.join(processed_path, \"drugs_list.json\"), drugs_list)\n",
    "\n",
    "print(f\"Database Prepared - {len(interactions)} interactions - {len(drugs_list)} drugs\")"
   ],
   "id": "ff92a1bab7b8309d",
   "outputs": [
    {
     "name": "stdout",
     "output_type": "stream",
     "text": [
      "Database Prepared - 160235 interactions - 1939 drugs\n"
     ]
    }
   ],
   "execution_count": 7
  },
  {
   "metadata": {
    "ExecuteTime": {
     "end_time": "2024-08-08T23:04:48.519623Z",
     "start_time": "2024-08-08T23:04:46.371826Z"
    }
   },
   "cell_type": "code",
   "source": [
    "# Connect to Neo4j Local Database\n",
    "uri = \"bolt://localhost:7687\"\n",
    "neo4j_credentials = (\"neo4j\", \"12345678\")\n",
    "driver = GraphDatabase.driver(uri, auth=neo4j_credentials)\n",
    "\n",
    "# Test Connection\n",
    "with driver.session() as session:\n",
    "    session.run(\"MATCH () RETURN 1 LIMIT 1\")\n",
    "print(\"Neo4j Driver Connected\")"
   ],
   "id": "33d93f4aeedb7eb9",
   "outputs": [
    {
     "name": "stdout",
     "output_type": "stream",
     "text": [
      "Neo4j Driver Connected\n"
     ]
    }
   ],
   "execution_count": 8
  },
  {
   "metadata": {
    "ExecuteTime": {
     "end_time": "2024-08-08T23:11:08.160174Z",
     "start_time": "2024-08-08T23:11:06.369552Z"
    }
   },
   "cell_type": "code",
   "source": [
    "# Wiping the Graph\n",
    "def wipe_graph(tx):\n",
    "    tx.run(\"MATCH (n) DETACH DELETE n\")\n",
    "\n",
    "if input(\"Do you want to wipe the Neo4j graph? (y/n): \").lower() == \"y\":\n",
    "    with driver.session() as session:\n",
    "        session.execute_write(wipe_graph)\n",
    "    print(\"Neo4j graph has been successfully wiped.\")"
   ],
   "id": "520765c6e7c1ecfb",
   "outputs": [
    {
     "name": "stdout",
     "output_type": "stream",
     "text": [
      "Neo4j graph has been successfully wiped.\n"
     ]
    }
   ],
   "execution_count": 11
  },
  {
   "metadata": {
    "ExecuteTime": {
     "end_time": "2024-08-08T23:14:40.053381Z",
     "start_time": "2024-08-08T23:11:33.243190Z"
    }
   },
   "cell_type": "code",
   "source": [
    "# Constructing the Graph or Reconstructing the Graph\n",
    "def create_graph(tx, batch):\n",
    "    for drug_a, drug_b, severity_level in batch:\n",
    "        tx.run(\"MERGE (d1:Drug {name: $drug_a}) \"\n",
    "               \"MERGE (d2:Drug {name: $drug_b}) \"\n",
    "               \"MERGE (d1)-[r:CONTRADICTS {severity: $severity_level}]->(d2)\",\n",
    "               drug_a=drug_a, drug_b=drug_b, severity_level=severity_level)\n",
    "\n",
    "if input(\"Do you want to construct or reconstruct the Neo4j graph? (y/n): \").lower() == \"y\":\n",
    "    batch_size = 100\n",
    "    with driver.session() as session:\n",
    "        for i in tqdm(range(0, len(interactions), batch_size)):\n",
    "            session.execute_write(create_graph, interactions[i:i + batch_size])\n",
    "    print(\"Neo4j graph has been successfully constructed.\")"
   ],
   "id": "340ed7f2d8329919",
   "outputs": [
    {
     "name": "stderr",
     "output_type": "stream",
     "text": [
      "100%|██████████| 1603/1603 [03:05<00:00,  8.66it/s]"
     ]
    },
    {
     "name": "stdout",
     "output_type": "stream",
     "text": [
      "Neo4j graph has been successfully constructed.\n"
     ]
    },
    {
     "name": "stderr",
     "output_type": "stream",
     "text": [
      "\n"
     ]
    }
   ],
   "execution_count": 13
  },
  {
   "metadata": {
    "ExecuteTime": {
     "end_time": "2024-08-08T23:14:52.388477Z",
     "start_time": "2024-08-08T23:14:42.870644Z"
    }
   },
   "cell_type": "code",
   "source": [
    "# Exporting the Graph\n",
    "def fetch_data(query):\n",
    "    with driver.session() as session:\n",
    "        result = session.run(query)\n",
    "        return [record.data() for record in result]\n",
    "\n",
    "nodes_data = fetch_data(\"MATCH (n) RETURN n\")\n",
    "edges_data = fetch_data(\"MATCH (n)-[r]->(m) RETURN n, r, m\")\n",
    "\n",
    "files.write_json(os.path.join(graph_path, \"nodes.json\"), nodes_data)\n",
    "files.write_json(os.path.join(graph_path, \"edges.json\"), edges_data)\n",
    "print(\"Neo4j graph has been successfully exported.\")"
   ],
   "id": "b830f925efe7bee1",
   "outputs": [
    {
     "name": "stdout",
     "output_type": "stream",
     "text": [
      "Neo4j graph has been successfully exported.\n"
     ]
    }
   ],
   "execution_count": 14
  },
  {
   "metadata": {
    "jupyter": {
     "is_executing": true
    },
    "ExecuteTime": {
     "start_time": "2024-08-08T23:26:49.608418Z"
    }
   },
   "cell_type": "code",
   "source": [
    "if input(\"Do you want to visualize the Neo4j graph? (y/n): \").lower() == \"y\":\n",
    "    G = nx.DiGraph()\n",
    "\n",
    "    # Adding nodes to the graph\n",
    "    for node in nodes_data:\n",
    "        node_properties = node[\"n\"]\n",
    "        G.add_node(node_properties[\"name\"], **node_properties)\n",
    "\n",
    "    # Adding edges to the graph\n",
    "    for edge in edges_data:\n",
    "        start_node = edge[\"n\"][\"name\"]\n",
    "        end_node = edge[\"m\"][\"name\"]\n",
    "        edge_type = edge[\"r\"][1]  # Or \"CONTRADICTS\"\n",
    "\n",
    "        # Adding the edge with the edge type as a label\n",
    "        G.add_edge(start_node, end_node, label=edge_type)\n",
    "    \n",
    "    figure_size = (100, 100)\n",
    "    plt.figure(figsize=figure_size)\n",
    "    \n",
    "    pos = nx.spring_layout(G, k=0.1)\n",
    "    nx.draw(G, pos, with_labels=True, node_size=50, font_size=4, edge_color='black', width=0.5)\n",
    "    labels = nx.get_edge_attributes(G, 'label')\n",
    "    nx.draw_networkx_edge_labels(G, pos, edge_labels=labels, font_size=3)\n",
    "    plt.savefig(os.path.join(graph_path, \"graph.png\"), format=\"PNG\", dpi=300)\n",
    "\n",
    "    print(f\"Graph plot has been successfully created and saved to {graph_path}.\")"
   ],
   "id": "fe4bc1dda0c9fa53",
   "outputs": [],
   "execution_count": null
  },
  {
   "metadata": {},
   "cell_type": "code",
   "outputs": [],
   "execution_count": null,
   "source": "",
   "id": "80e37e91af6dcfc0"
  }
 ],
 "metadata": {
  "kernelspec": {
   "display_name": "Python 3",
   "language": "python",
   "name": "python3"
  },
  "language_info": {
   "codemirror_mode": {
    "name": "ipython",
    "version": 2
   },
   "file_extension": ".py",
   "mimetype": "text/x-python",
   "name": "python",
   "nbconvert_exporter": "python",
   "pygments_lexer": "ipython2",
   "version": "2.7.6"
  }
 },
 "nbformat": 4,
 "nbformat_minor": 5
}
