{
 "cells": [
  {
   "cell_type": "code",
   "id": "initial_id",
   "metadata": {
    "collapsed": true,
    "ExecuteTime": {
     "end_time": "2024-08-09T06:19:33.014062Z",
     "start_time": "2024-08-09T06:19:28.706371Z"
    }
   },
   "source": [
    "from neo4j import GraphDatabase\n",
    "\n",
    "# Connecting to Neo4j\n",
    "uri = \"bolt://localhost:7687\"\n",
    "driver = GraphDatabase.driver(uri, auth=(\"neo4j\", \"12345678\"))\n",
    "\n",
    "# Cypher query to extract interactions\n",
    "query = \"\"\"\n",
    "MATCH (d1:Drug)-[r:CONTRADICTS]->(d2:Drug)\n",
    "RETURN d1.name AS drug_a, d2.name AS drug_b, r.severity AS severity\n",
    "\"\"\"\n",
    "\n",
    "def fetch_interactions(driver):\n",
    "    with driver.session() as session:\n",
    "        result = session.run(query)\n",
    "        return [(record['drug_a'], record['drug_b'], record['severity']) for record in result]\n",
    "\n",
    "interactions = fetch_interactions(driver)\n",
    "driver.close()"
   ],
   "outputs": [],
   "execution_count": 1
  },
  {
   "metadata": {},
   "cell_type": "markdown",
   "source": "### Collaborative Filtering with Matrix Factorization (SVD)",
   "id": "d737efaaf122a9b0"
  },
  {
   "metadata": {
    "ExecuteTime": {
     "end_time": "2024-08-09T06:19:33.275473Z",
     "start_time": "2024-08-09T06:19:33.015070Z"
    }
   },
   "cell_type": "code",
   "source": [
    "import numpy as np\n",
    "import pandas as pd\n",
    "from scipy.sparse.linalg import svds\n",
    "\n",
    "# Encoding severities\n",
    "severity_mapping = {'Major': 3, 'Moderate': 2, 'Minor': 1, 'Unknown': 0}\n",
    "encoded_interactions = [(d1, d2, severity_mapping.get(severity, 0)) for d1, d2, severity in interactions]\n",
    "\n",
    "# Extracting unique drugs\n",
    "drugs = list(set([d1 for d1, _, _ in encoded_interactions] + [d2 for _, d2, _ in encoded_interactions]))\n",
    "drug_index = {drug: idx for idx, drug in enumerate(drugs)}\n",
    "\n",
    "# Creating the interaction matrix\n",
    "interaction_matrix = np.zeros((len(drugs), len(drugs)))\n",
    "for d1, d2, severity in encoded_interactions:\n",
    "    idx1, idx2 = drug_index[d1], drug_index[d2]\n",
    "    interaction_matrix[idx1, idx2] = severity\n",
    "    interaction_matrix[idx2, idx1] = severity  # assuming symmetry\n",
    "interaction_df = pd.DataFrame(interaction_matrix, index=drugs, columns=drugs)\n",
    "\n",
    "# Applying SVD\n",
    "u, s, vt = svds(interaction_matrix, k=50)  # k is the number of latent factors\n",
    "predicted_interactions = np.dot(np.dot(u, np.diag(s)), vt)\n",
    "predicted_interactions_df = pd.DataFrame(predicted_interactions, index=drugs, columns=drugs)\n",
    "predicted_interactions_df.head()"
   ],
   "id": "cefd765141728299",
   "outputs": [
    {
     "data": {
      "text/plain": [
       "                    Azelastine (nasal)  Iron Dextran  Methimazole  \\\n",
       "Azelastine (nasal)            0.989117      0.000627    -0.053089   \n",
       "Iron Dextran                  0.000627      0.010458    -0.006306   \n",
       "Methimazole                  -0.053089     -0.006306     0.024476   \n",
       "Milk thistle                  0.000012      0.005777    -0.005912   \n",
       "Vinorelbine                  -0.017516      0.018052    -0.141105   \n",
       "\n",
       "                    Milk thistle  Vinorelbine  Risperidone  Vandetanib  \\\n",
       "Azelastine (nasal)      0.000012    -0.017516     1.659138   -0.117919   \n",
       "Iron Dextran            0.005777     0.018052    -0.007989   -0.009074   \n",
       "Methimazole            -0.005912    -0.141105     0.139268   -0.110688   \n",
       "Milk thistle            0.001536    -0.001682    -0.003271    0.001112   \n",
       "Vinorelbine            -0.001682     2.718850     0.015426    0.281823   \n",
       "\n",
       "                    Enasidenib  Ospemifene  Desirudin  ...  Sodium oxybate  \\\n",
       "Azelastine (nasal)   -0.056214    0.010548  -0.191941  ...        1.652190   \n",
       "Iron Dextran          0.008429   -0.001806  -0.030509  ...       -0.003602   \n",
       "Methimazole          -0.059220    0.144115   0.101146  ...        0.010638   \n",
       "Milk thistle         -0.007772   -0.000336  -0.020894  ...       -0.001426   \n",
       "Vinorelbine           0.687992    0.151699   0.093472  ...        0.000573   \n",
       "\n",
       "                    Flucytosine  Artesunate  Propofol  Cisplatin  \\\n",
       "Azelastine (nasal)     0.025029   -0.083231  0.367083  -0.001636   \n",
       "Iron Dextran           0.010889    0.014408  0.004123   0.033441   \n",
       "Methimazole           -0.116970    0.025981 -0.045933   0.045160   \n",
       "Milk thistle           0.010721   -0.001040  0.000320  -0.006022   \n",
       "Vinorelbine            0.037754    0.036374 -0.096058   2.861579   \n",
       "\n",
       "                    Dinoprostone (topical)  Mirabegron  Dapagliflozin  \\\n",
       "Azelastine (nasal)                0.001875    0.144285      -0.052977   \n",
       "Iron Dextran                      0.001232   -0.005049      -0.014297   \n",
       "Methimazole                      -0.004499    0.007669      -0.111808   \n",
       "Milk thistle                      0.000276   -0.002468      -0.001684   \n",
       "Vinorelbine                      -0.015952    0.175356       0.033071   \n",
       "\n",
       "                    Frovatriptan  Pyridostigmine  \n",
       "Azelastine (nasal)      0.382936       -0.093122  \n",
       "Iron Dextran            0.005377       -0.012564  \n",
       "Methimazole            -0.154313        0.148085  \n",
       "Milk thistle           -0.001193       -0.015634  \n",
       "Vinorelbine             0.042065        0.039281  \n",
       "\n",
       "[5 rows x 1939 columns]"
      ],
      "text/html": [
       "<div>\n",
       "<style scoped>\n",
       "    .dataframe tbody tr th:only-of-type {\n",
       "        vertical-align: middle;\n",
       "    }\n",
       "\n",
       "    .dataframe tbody tr th {\n",
       "        vertical-align: top;\n",
       "    }\n",
       "\n",
       "    .dataframe thead th {\n",
       "        text-align: right;\n",
       "    }\n",
       "</style>\n",
       "<table border=\"1\" class=\"dataframe\">\n",
       "  <thead>\n",
       "    <tr style=\"text-align: right;\">\n",
       "      <th></th>\n",
       "      <th>Azelastine (nasal)</th>\n",
       "      <th>Iron Dextran</th>\n",
       "      <th>Methimazole</th>\n",
       "      <th>Milk thistle</th>\n",
       "      <th>Vinorelbine</th>\n",
       "      <th>Risperidone</th>\n",
       "      <th>Vandetanib</th>\n",
       "      <th>Enasidenib</th>\n",
       "      <th>Ospemifene</th>\n",
       "      <th>Desirudin</th>\n",
       "      <th>...</th>\n",
       "      <th>Sodium oxybate</th>\n",
       "      <th>Flucytosine</th>\n",
       "      <th>Artesunate</th>\n",
       "      <th>Propofol</th>\n",
       "      <th>Cisplatin</th>\n",
       "      <th>Dinoprostone (topical)</th>\n",
       "      <th>Mirabegron</th>\n",
       "      <th>Dapagliflozin</th>\n",
       "      <th>Frovatriptan</th>\n",
       "      <th>Pyridostigmine</th>\n",
       "    </tr>\n",
       "  </thead>\n",
       "  <tbody>\n",
       "    <tr>\n",
       "      <th>Azelastine (nasal)</th>\n",
       "      <td>0.989117</td>\n",
       "      <td>0.000627</td>\n",
       "      <td>-0.053089</td>\n",
       "      <td>0.000012</td>\n",
       "      <td>-0.017516</td>\n",
       "      <td>1.659138</td>\n",
       "      <td>-0.117919</td>\n",
       "      <td>-0.056214</td>\n",
       "      <td>0.010548</td>\n",
       "      <td>-0.191941</td>\n",
       "      <td>...</td>\n",
       "      <td>1.652190</td>\n",
       "      <td>0.025029</td>\n",
       "      <td>-0.083231</td>\n",
       "      <td>0.367083</td>\n",
       "      <td>-0.001636</td>\n",
       "      <td>0.001875</td>\n",
       "      <td>0.144285</td>\n",
       "      <td>-0.052977</td>\n",
       "      <td>0.382936</td>\n",
       "      <td>-0.093122</td>\n",
       "    </tr>\n",
       "    <tr>\n",
       "      <th>Iron Dextran</th>\n",
       "      <td>0.000627</td>\n",
       "      <td>0.010458</td>\n",
       "      <td>-0.006306</td>\n",
       "      <td>0.005777</td>\n",
       "      <td>0.018052</td>\n",
       "      <td>-0.007989</td>\n",
       "      <td>-0.009074</td>\n",
       "      <td>0.008429</td>\n",
       "      <td>-0.001806</td>\n",
       "      <td>-0.030509</td>\n",
       "      <td>...</td>\n",
       "      <td>-0.003602</td>\n",
       "      <td>0.010889</td>\n",
       "      <td>0.014408</td>\n",
       "      <td>0.004123</td>\n",
       "      <td>0.033441</td>\n",
       "      <td>0.001232</td>\n",
       "      <td>-0.005049</td>\n",
       "      <td>-0.014297</td>\n",
       "      <td>0.005377</td>\n",
       "      <td>-0.012564</td>\n",
       "    </tr>\n",
       "    <tr>\n",
       "      <th>Methimazole</th>\n",
       "      <td>-0.053089</td>\n",
       "      <td>-0.006306</td>\n",
       "      <td>0.024476</td>\n",
       "      <td>-0.005912</td>\n",
       "      <td>-0.141105</td>\n",
       "      <td>0.139268</td>\n",
       "      <td>-0.110688</td>\n",
       "      <td>-0.059220</td>\n",
       "      <td>0.144115</td>\n",
       "      <td>0.101146</td>\n",
       "      <td>...</td>\n",
       "      <td>0.010638</td>\n",
       "      <td>-0.116970</td>\n",
       "      <td>0.025981</td>\n",
       "      <td>-0.045933</td>\n",
       "      <td>0.045160</td>\n",
       "      <td>-0.004499</td>\n",
       "      <td>0.007669</td>\n",
       "      <td>-0.111808</td>\n",
       "      <td>-0.154313</td>\n",
       "      <td>0.148085</td>\n",
       "    </tr>\n",
       "    <tr>\n",
       "      <th>Milk thistle</th>\n",
       "      <td>0.000012</td>\n",
       "      <td>0.005777</td>\n",
       "      <td>-0.005912</td>\n",
       "      <td>0.001536</td>\n",
       "      <td>-0.001682</td>\n",
       "      <td>-0.003271</td>\n",
       "      <td>0.001112</td>\n",
       "      <td>-0.007772</td>\n",
       "      <td>-0.000336</td>\n",
       "      <td>-0.020894</td>\n",
       "      <td>...</td>\n",
       "      <td>-0.001426</td>\n",
       "      <td>0.010721</td>\n",
       "      <td>-0.001040</td>\n",
       "      <td>0.000320</td>\n",
       "      <td>-0.006022</td>\n",
       "      <td>0.000276</td>\n",
       "      <td>-0.002468</td>\n",
       "      <td>-0.001684</td>\n",
       "      <td>-0.001193</td>\n",
       "      <td>-0.015634</td>\n",
       "    </tr>\n",
       "    <tr>\n",
       "      <th>Vinorelbine</th>\n",
       "      <td>-0.017516</td>\n",
       "      <td>0.018052</td>\n",
       "      <td>-0.141105</td>\n",
       "      <td>-0.001682</td>\n",
       "      <td>2.718850</td>\n",
       "      <td>0.015426</td>\n",
       "      <td>0.281823</td>\n",
       "      <td>0.687992</td>\n",
       "      <td>0.151699</td>\n",
       "      <td>0.093472</td>\n",
       "      <td>...</td>\n",
       "      <td>0.000573</td>\n",
       "      <td>0.037754</td>\n",
       "      <td>0.036374</td>\n",
       "      <td>-0.096058</td>\n",
       "      <td>2.861579</td>\n",
       "      <td>-0.015952</td>\n",
       "      <td>0.175356</td>\n",
       "      <td>0.033071</td>\n",
       "      <td>0.042065</td>\n",
       "      <td>0.039281</td>\n",
       "    </tr>\n",
       "  </tbody>\n",
       "</table>\n",
       "<p>5 rows × 1939 columns</p>\n",
       "</div>"
      ]
     },
     "execution_count": 2,
     "metadata": {},
     "output_type": "execute_result"
    }
   ],
   "execution_count": 2
  },
  {
   "metadata": {},
   "cell_type": "markdown",
   "source": " ### Applying a Random Forest Classifier to Predict Interaction Severity",
   "id": "da066874a246f05f"
  },
  {
   "metadata": {
    "ExecuteTime": {
     "end_time": "2024-08-09T06:20:22.741080Z",
     "start_time": "2024-08-09T06:19:33.275473Z"
    }
   },
   "cell_type": "code",
   "source": [
    "from sklearn.model_selection import train_test_split\n",
    "from sklearn.ensemble import RandomForestClassifier\n",
    "from sklearn.metrics import classification_report\n",
    "\n",
    "# Creating training data\n",
    "train_data = []\n",
    "for d1, d2, severity in encoded_interactions:\n",
    "    idx1, idx2 = drug_index[d1], drug_index[d2]\n",
    "    features = np.concatenate([u[idx1], vt.T[idx2]])\n",
    "    train_data.append((features, severity))\n",
    "\n",
    "X, y = zip(*train_data)\n",
    "X = np.array(X)\n",
    "y = np.array(y)\n",
    "\n",
    "# Splitting data into training and testing sets\n",
    "X_train, X_test, y_train, y_test = train_test_split(X, y, test_size=0.2, random_state=42)\n",
    "\n",
    "# Training a Random Forest classifier\n",
    "clf = RandomForestClassifier(n_estimators=100, random_state=42)\n",
    "clf.fit(X_train, y_train)\n",
    "\n",
    "# Evaluating the model\n",
    "y_pred = clf.predict(X_test)\n",
    "print(classification_report(y_test, y_pred))"
   ],
   "id": "838d58c976978ca3",
   "outputs": [
    {
     "name": "stdout",
     "output_type": "stream",
     "text": [
      "              precision    recall  f1-score   support\n",
      "\n",
      "           0       0.94      0.95      0.95      5961\n",
      "           1       0.98      0.73      0.83      1351\n",
      "           2       0.94      0.98      0.96     19317\n",
      "           3       0.96      0.88      0.92      5418\n",
      "\n",
      "    accuracy                           0.95     32047\n",
      "   macro avg       0.96      0.88      0.92     32047\n",
      "weighted avg       0.95      0.95      0.95     32047\n",
      "\n"
     ]
    }
   ],
   "execution_count": 3
  },
  {
   "metadata": {},
   "cell_type": "markdown",
   "source": "### Finding pairs of drugs for which the interaction severity is not reported",
   "id": "ccc934329e353b89"
  },
  {
   "metadata": {
    "ExecuteTime": {
     "end_time": "2024-08-09T06:20:24.699528Z",
     "start_time": "2024-08-09T06:20:22.741080Z"
    }
   },
   "cell_type": "code",
   "source": [
    "import os\n",
    "from tools import Files\n",
    "\n",
    "files = Files()\n",
    "root = os.path.dirname(os.path.abspath(__name__))\n",
    "drugs_list = files.read_json(os.path.join(root, \"data\", \"processed\", \"drugs_list.json\"))\n",
    "interaction_pairs = set([(d1, d2) for d1, d2, _ in encoded_interactions])\n",
    "\n",
    "sample_size = 1000\n",
    "drug_pairs = []\n",
    "while True:\n",
    "    drug_a, drug_b = np.random.choice(drugs_list, 2, replace=False)\n",
    "    if (drug_a, drug_b) in interaction_pairs or (drug_b, drug_a) in interaction_pairs:\n",
    "        continue\n",
    "    if (drug_a, drug_b) not in drug_pairs and (drug_b, drug_a) not in drug_pairs:\n",
    "        drug_pairs.append((drug_a, drug_b))\n",
    "    if len(drug_pairs) == sample_size:\n",
    "        break\n",
    "\n",
    "drug_pairs[:5]"
   ],
   "id": "9325f6081626f43",
   "outputs": [
    {
     "data": {
      "text/plain": [
       "[('Hydroxocobalamin', 'Turmeric'),\n",
       " ('Lonafarnib', 'Abarelix'),\n",
       " ('Grazoprevir', 'Naproxen'),\n",
       " ('Mesalazine', 'Oritavancin'),\n",
       " ('Oxcarbazepine', 'Methoxamine')]"
      ]
     },
     "execution_count": 4,
     "metadata": {},
     "output_type": "execute_result"
    }
   ],
   "execution_count": 4
  },
  {
   "metadata": {
    "ExecuteTime": {
     "end_time": "2024-08-09T06:20:25.845074Z",
     "start_time": "2024-08-09T06:20:24.699528Z"
    }
   },
   "cell_type": "code",
   "source": [
    "def predict_interaction_rf(drug_a, drug_b):\n",
    "    idx_a, idx_b = drug_index[drug_a], drug_index[drug_b]\n",
    "    features = np.concatenate([u[idx_a], vt.T[idx_b]])\n",
    "    predicted_severity = clf.predict([features])[0]\n",
    "    severity_labels = {3: 'major', 2: 'moderate', 1: 'minor', 0: 'unknown'}\n",
    "    return severity_labels[predicted_severity]\n",
    "\n",
    "new_predictions = []\n",
    "for drug_a, drug_b in drug_pairs:\n",
    "    new_interaction = predict_interaction_rf(drug_a, drug_b)\n",
    "    new_predictions.append((drug_a, drug_b, new_interaction))\n",
    "new_predictions = pd.DataFrame(new_predictions, columns=['A', 'B', 'Severity'])\n",
    "new_predictions.tail()"
   ],
   "id": "363535415a4b7c2e",
   "outputs": [
    {
     "data": {
      "text/plain": [
       "                                 A                            B  Severity\n",
       "995                    Deferiprone        Halcinonide (topical)  moderate\n",
       "996                    Cabergoline                    Verapamil   unknown\n",
       "997           Interferon alfacon-1                     Anakinra  moderate\n",
       "998                     Aclidinium               Urofollitropin   unknown\n",
       "999  Aminolevulinic acid (topical)  Trichophyton mentagrophytes  moderate"
      ],
      "text/html": [
       "<div>\n",
       "<style scoped>\n",
       "    .dataframe tbody tr th:only-of-type {\n",
       "        vertical-align: middle;\n",
       "    }\n",
       "\n",
       "    .dataframe tbody tr th {\n",
       "        vertical-align: top;\n",
       "    }\n",
       "\n",
       "    .dataframe thead th {\n",
       "        text-align: right;\n",
       "    }\n",
       "</style>\n",
       "<table border=\"1\" class=\"dataframe\">\n",
       "  <thead>\n",
       "    <tr style=\"text-align: right;\">\n",
       "      <th></th>\n",
       "      <th>A</th>\n",
       "      <th>B</th>\n",
       "      <th>Severity</th>\n",
       "    </tr>\n",
       "  </thead>\n",
       "  <tbody>\n",
       "    <tr>\n",
       "      <th>995</th>\n",
       "      <td>Deferiprone</td>\n",
       "      <td>Halcinonide (topical)</td>\n",
       "      <td>moderate</td>\n",
       "    </tr>\n",
       "    <tr>\n",
       "      <th>996</th>\n",
       "      <td>Cabergoline</td>\n",
       "      <td>Verapamil</td>\n",
       "      <td>unknown</td>\n",
       "    </tr>\n",
       "    <tr>\n",
       "      <th>997</th>\n",
       "      <td>Interferon alfacon-1</td>\n",
       "      <td>Anakinra</td>\n",
       "      <td>moderate</td>\n",
       "    </tr>\n",
       "    <tr>\n",
       "      <th>998</th>\n",
       "      <td>Aclidinium</td>\n",
       "      <td>Urofollitropin</td>\n",
       "      <td>unknown</td>\n",
       "    </tr>\n",
       "    <tr>\n",
       "      <th>999</th>\n",
       "      <td>Aminolevulinic acid (topical)</td>\n",
       "      <td>Trichophyton mentagrophytes</td>\n",
       "      <td>moderate</td>\n",
       "    </tr>\n",
       "  </tbody>\n",
       "</table>\n",
       "</div>"
      ]
     },
     "execution_count": 5,
     "metadata": {},
     "output_type": "execute_result"
    }
   ],
   "execution_count": 5
  },
  {
   "metadata": {},
   "cell_type": "markdown",
   "source": [
    "### Applying Graph Neural Networks (GNNs)\n",
    "\n",
    "#### Creating a Graph Data Object"
   ],
   "id": "9c35da2da4b8237f"
  },
  {
   "metadata": {
    "ExecuteTime": {
     "end_time": "2024-08-09T06:20:26.725954Z",
     "start_time": "2024-08-09T06:20:25.845074Z"
    }
   },
   "cell_type": "code",
   "source": [
    "import torch\n",
    "from torch_geometric.data import Data\n",
    "import networkx as nx\n",
    "\n",
    "G = nx.Graph()\n",
    "severity_mapping = {'Major': 3, 'Moderate': 2, 'Minor': 1, 'Unknown': 0}\n",
    "for drug_a, drug_b, severity in interactions:\n",
    "    G.add_edge(drug_a, drug_b, weight=severity_mapping.get(severity, 0))\n",
    "drug_to_index = {drug: idx for idx, drug in enumerate(G.nodes)}\n",
    "\n",
    "edges = [(drug_to_index[u], drug_to_index[v]) for u, v in G.edges]\n",
    "edge_index = torch.tensor(edges, dtype=torch.long).t().contiguous()\n",
    "edge_attr = torch.tensor([G[u][v]['weight'] for u, v in G.edges], dtype=torch.float).view(-1, 1)\n",
    "\n",
    "# One-hot encoding of drug classes\n",
    "# In future work, molecular descriptors or fingerprints can also be used as node features. \n",
    "num_drugs = len(G.nodes)\n",
    "x = torch.eye(num_drugs)\n",
    "\n",
    "data = Data(x=x, edge_index=edge_index, edge_attr=edge_attr)\n",
    "print(data)"
   ],
   "id": "e3759b66eef29827",
   "outputs": [
    {
     "name": "stdout",
     "output_type": "stream",
     "text": [
      "Data(x=[1939, 1939], edge_index=[2, 160235], edge_attr=[160235, 1])\n"
     ]
    }
   ],
   "execution_count": 6
  },
  {
   "metadata": {},
   "cell_type": "markdown",
   "source": [
    "### Defining the Graph Neural Network (GNN) Model\n",
    "\n",
    "#### 1. GNN Architecture"
   ],
   "id": "f0747e9407fd43c9"
  },
  {
   "metadata": {
    "ExecuteTime": {
     "end_time": "2024-08-09T06:20:26.730387Z",
     "start_time": "2024-08-09T06:20:26.725954Z"
    }
   },
   "cell_type": "code",
   "source": [
    "import torch\n",
    "import torch.nn.functional as F\n",
    "from torch_geometric.nn import GCNConv\n",
    "from torch_geometric.data import Data\n",
    "\n",
    "class EdgePredictor(torch.nn.Module):\n",
    "    def __init__(self, num_node_features, hidden_channels):\n",
    "        super(EdgePredictor, self).__init__()\n",
    "        self.conv1 = GCNConv(num_node_features, hidden_channels)\n",
    "        self.conv2 = GCNConv(hidden_channels, hidden_channels)\n",
    "        self.fc1 = torch.nn.Linear(hidden_channels * 2, hidden_channels)\n",
    "        self.fc2 = torch.nn.Linear(hidden_channels, 1)  # Output layer for binary classification\n",
    "\n",
    "    def forward(self, data):\n",
    "        x, edge_index = data.x, data.edge_index\n",
    "        \n",
    "        # GCN layers to get node embeddings\n",
    "        x = self.conv1(x, edge_index)\n",
    "        x = F.relu(x)\n",
    "        x = self.conv2(x, edge_index)\n",
    "        x = F.relu(x)  # Node embeddings\n",
    "        \n",
    "        # Extract embeddings for the pairs of nodes connected by edges\n",
    "        edge_embeddings = self.get_edge_embeddings(x, edge_index)\n",
    "        \n",
    "        # Pass edge embeddings through the classifier\n",
    "        edge_scores = self.fc1(edge_embeddings)\n",
    "        edge_scores = F.relu(edge_scores)\n",
    "        edge_scores = self.fc2(edge_scores)\n",
    "        edge_scores = torch.sigmoid(edge_scores).squeeze()  # Final predictions\n",
    "        \n",
    "        return edge_scores  # Shape: [num_edges]\n",
    "    \n",
    "    def get_edge_embeddings(self, node_embeddings, edge_index):\n",
    "        # edge_index has shape [2, num_edges]\n",
    "        src_nodes = edge_index[0]  # Source nodes\n",
    "        dst_nodes = edge_index[1]  # Destination nodes\n",
    "        \n",
    "        src_embeddings = node_embeddings[src_nodes]  # Shape: [num_edges, hidden_channels]\n",
    "        dst_embeddings = node_embeddings[dst_nodes]  # Shape: [num_edges, hidden_channels]\n",
    "        \n",
    "        # Combine node embeddings to form edge embeddings (e.g., concatenation)\n",
    "        edge_embeddings = torch.cat([src_embeddings, dst_embeddings], dim=1)  # Shape: [num_edges, hidden_channels*2]\n",
    "        \n",
    "        return edge_embeddings"
   ],
   "id": "67032930ad0721a5",
   "outputs": [],
   "execution_count": 7
  },
  {
   "metadata": {},
   "cell_type": "markdown",
   "source": "#### 2. Training Loop for the GNN Model",
   "id": "6e437232a436daa"
  },
  {
   "metadata": {
    "ExecuteTime": {
     "end_time": "2024-08-09T06:20:27.342232Z",
     "start_time": "2024-08-09T06:20:26.730387Z"
    }
   },
   "cell_type": "code",
   "source": [
    "import torch.optim as optim\n",
    "\n",
    "# Set the device\n",
    "# device = torch.device('cuda' if torch.cuda.is_available() else 'cpu')\n",
    "device = torch.device('cpu')\n",
    "\n",
    "# Move the Data object to the correct device\n",
    "data = data.to(device)\n",
    "\n",
    "# Extract labels after moving the data to the correct device\n",
    "labels = data.edge_attr.squeeze()  # Assuming edge_attr is already on the correct device\n",
    "\n",
    "# Initialize the model and move it to the correct device\n",
    "model = EdgePredictor(num_node_features=data.x.shape[1], hidden_channels=64).to(device)\n",
    "\n",
    "# Set up the optimizer and loss function\n",
    "optimizer = optim.Adam(model.parameters(), lr=0.01)\n",
    "criterion = torch.nn.BCELoss()\n",
    "\n",
    "def train():\n",
    "    model.train()\n",
    "    optimizer.zero_grad()\n",
    "    \n",
    "    # Forward pass\n",
    "    out = model(data)  # Shape: [num_edges]\n",
    "    \n",
    "    # Calculate loss\n",
    "    loss = criterion(out, labels.float())\n",
    "    \n",
    "    # Backward pass and optimization\n",
    "    loss.backward()\n",
    "    optimizer.step()\n",
    "    \n",
    "    return loss.item()\n",
    "\n",
    "# Training the model\n",
    "epochs = 200\n",
    "for epoch in range(1, epochs + 1):\n",
    "    loss = train()\n",
    "    print(f'Epoch {epoch}, Loss: {loss}')"
   ],
   "id": "15a35dadd71db2a5",
   "outputs": [
    {
     "ename": "RuntimeError",
     "evalue": "all elements of target should be between 0 and 1",
     "output_type": "error",
     "traceback": [
      "\u001B[1;31m---------------------------------------------------------------------------\u001B[0m",
      "\u001B[1;31mRuntimeError\u001B[0m                              Traceback (most recent call last)",
      "Cell \u001B[1;32mIn[8], line 39\u001B[0m\n\u001B[0;32m     37\u001B[0m epochs \u001B[38;5;241m=\u001B[39m \u001B[38;5;241m200\u001B[39m\n\u001B[0;32m     38\u001B[0m \u001B[38;5;28;01mfor\u001B[39;00m epoch \u001B[38;5;129;01min\u001B[39;00m \u001B[38;5;28mrange\u001B[39m(\u001B[38;5;241m1\u001B[39m, epochs \u001B[38;5;241m+\u001B[39m \u001B[38;5;241m1\u001B[39m):\n\u001B[1;32m---> 39\u001B[0m     loss \u001B[38;5;241m=\u001B[39m \u001B[43mtrain\u001B[49m\u001B[43m(\u001B[49m\u001B[43m)\u001B[49m\n\u001B[0;32m     40\u001B[0m     \u001B[38;5;28mprint\u001B[39m(\u001B[38;5;124mf\u001B[39m\u001B[38;5;124m'\u001B[39m\u001B[38;5;124mEpoch \u001B[39m\u001B[38;5;132;01m{\u001B[39;00mepoch\u001B[38;5;132;01m}\u001B[39;00m\u001B[38;5;124m, Loss: \u001B[39m\u001B[38;5;132;01m{\u001B[39;00mloss\u001B[38;5;132;01m}\u001B[39;00m\u001B[38;5;124m'\u001B[39m)\n",
      "Cell \u001B[1;32mIn[8], line 28\u001B[0m, in \u001B[0;36mtrain\u001B[1;34m()\u001B[0m\n\u001B[0;32m     25\u001B[0m out \u001B[38;5;241m=\u001B[39m model(data)  \u001B[38;5;66;03m# Shape: [num_edges]\u001B[39;00m\n\u001B[0;32m     27\u001B[0m \u001B[38;5;66;03m# Calculate loss\u001B[39;00m\n\u001B[1;32m---> 28\u001B[0m loss \u001B[38;5;241m=\u001B[39m \u001B[43mcriterion\u001B[49m\u001B[43m(\u001B[49m\u001B[43mout\u001B[49m\u001B[43m,\u001B[49m\u001B[43m \u001B[49m\u001B[43mlabels\u001B[49m\u001B[38;5;241;43m.\u001B[39;49m\u001B[43mfloat\u001B[49m\u001B[43m(\u001B[49m\u001B[43m)\u001B[49m\u001B[43m)\u001B[49m\n\u001B[0;32m     30\u001B[0m \u001B[38;5;66;03m# Backward pass and optimization\u001B[39;00m\n\u001B[0;32m     31\u001B[0m loss\u001B[38;5;241m.\u001B[39mbackward()\n",
      "File \u001B[1;32mD:\\Projects\\drug-conflict-checker\\.venv\\Lib\\site-packages\\torch\\nn\\modules\\module.py:1553\u001B[0m, in \u001B[0;36mModule._wrapped_call_impl\u001B[1;34m(self, *args, **kwargs)\u001B[0m\n\u001B[0;32m   1551\u001B[0m     \u001B[38;5;28;01mreturn\u001B[39;00m \u001B[38;5;28mself\u001B[39m\u001B[38;5;241m.\u001B[39m_compiled_call_impl(\u001B[38;5;241m*\u001B[39margs, \u001B[38;5;241m*\u001B[39m\u001B[38;5;241m*\u001B[39mkwargs)  \u001B[38;5;66;03m# type: ignore[misc]\u001B[39;00m\n\u001B[0;32m   1552\u001B[0m \u001B[38;5;28;01melse\u001B[39;00m:\n\u001B[1;32m-> 1553\u001B[0m     \u001B[38;5;28;01mreturn\u001B[39;00m \u001B[38;5;28;43mself\u001B[39;49m\u001B[38;5;241;43m.\u001B[39;49m\u001B[43m_call_impl\u001B[49m\u001B[43m(\u001B[49m\u001B[38;5;241;43m*\u001B[39;49m\u001B[43margs\u001B[49m\u001B[43m,\u001B[49m\u001B[43m \u001B[49m\u001B[38;5;241;43m*\u001B[39;49m\u001B[38;5;241;43m*\u001B[39;49m\u001B[43mkwargs\u001B[49m\u001B[43m)\u001B[49m\n",
      "File \u001B[1;32mD:\\Projects\\drug-conflict-checker\\.venv\\Lib\\site-packages\\torch\\nn\\modules\\module.py:1562\u001B[0m, in \u001B[0;36mModule._call_impl\u001B[1;34m(self, *args, **kwargs)\u001B[0m\n\u001B[0;32m   1557\u001B[0m \u001B[38;5;66;03m# If we don't have any hooks, we want to skip the rest of the logic in\u001B[39;00m\n\u001B[0;32m   1558\u001B[0m \u001B[38;5;66;03m# this function, and just call forward.\u001B[39;00m\n\u001B[0;32m   1559\u001B[0m \u001B[38;5;28;01mif\u001B[39;00m \u001B[38;5;129;01mnot\u001B[39;00m (\u001B[38;5;28mself\u001B[39m\u001B[38;5;241m.\u001B[39m_backward_hooks \u001B[38;5;129;01mor\u001B[39;00m \u001B[38;5;28mself\u001B[39m\u001B[38;5;241m.\u001B[39m_backward_pre_hooks \u001B[38;5;129;01mor\u001B[39;00m \u001B[38;5;28mself\u001B[39m\u001B[38;5;241m.\u001B[39m_forward_hooks \u001B[38;5;129;01mor\u001B[39;00m \u001B[38;5;28mself\u001B[39m\u001B[38;5;241m.\u001B[39m_forward_pre_hooks\n\u001B[0;32m   1560\u001B[0m         \u001B[38;5;129;01mor\u001B[39;00m _global_backward_pre_hooks \u001B[38;5;129;01mor\u001B[39;00m _global_backward_hooks\n\u001B[0;32m   1561\u001B[0m         \u001B[38;5;129;01mor\u001B[39;00m _global_forward_hooks \u001B[38;5;129;01mor\u001B[39;00m _global_forward_pre_hooks):\n\u001B[1;32m-> 1562\u001B[0m     \u001B[38;5;28;01mreturn\u001B[39;00m \u001B[43mforward_call\u001B[49m\u001B[43m(\u001B[49m\u001B[38;5;241;43m*\u001B[39;49m\u001B[43margs\u001B[49m\u001B[43m,\u001B[49m\u001B[43m \u001B[49m\u001B[38;5;241;43m*\u001B[39;49m\u001B[38;5;241;43m*\u001B[39;49m\u001B[43mkwargs\u001B[49m\u001B[43m)\u001B[49m\n\u001B[0;32m   1564\u001B[0m \u001B[38;5;28;01mtry\u001B[39;00m:\n\u001B[0;32m   1565\u001B[0m     result \u001B[38;5;241m=\u001B[39m \u001B[38;5;28;01mNone\u001B[39;00m\n",
      "File \u001B[1;32mD:\\Projects\\drug-conflict-checker\\.venv\\Lib\\site-packages\\torch\\nn\\modules\\loss.py:621\u001B[0m, in \u001B[0;36mBCELoss.forward\u001B[1;34m(self, input, target)\u001B[0m\n\u001B[0;32m    620\u001B[0m \u001B[38;5;28;01mdef\u001B[39;00m \u001B[38;5;21mforward\u001B[39m(\u001B[38;5;28mself\u001B[39m, \u001B[38;5;28minput\u001B[39m: Tensor, target: Tensor) \u001B[38;5;241m-\u001B[39m\u001B[38;5;241m>\u001B[39m Tensor:\n\u001B[1;32m--> 621\u001B[0m     \u001B[38;5;28;01mreturn\u001B[39;00m \u001B[43mF\u001B[49m\u001B[38;5;241;43m.\u001B[39;49m\u001B[43mbinary_cross_entropy\u001B[49m\u001B[43m(\u001B[49m\u001B[38;5;28;43minput\u001B[39;49m\u001B[43m,\u001B[49m\u001B[43m \u001B[49m\u001B[43mtarget\u001B[49m\u001B[43m,\u001B[49m\u001B[43m \u001B[49m\u001B[43mweight\u001B[49m\u001B[38;5;241;43m=\u001B[39;49m\u001B[38;5;28;43mself\u001B[39;49m\u001B[38;5;241;43m.\u001B[39;49m\u001B[43mweight\u001B[49m\u001B[43m,\u001B[49m\u001B[43m \u001B[49m\u001B[43mreduction\u001B[49m\u001B[38;5;241;43m=\u001B[39;49m\u001B[38;5;28;43mself\u001B[39;49m\u001B[38;5;241;43m.\u001B[39;49m\u001B[43mreduction\u001B[49m\u001B[43m)\u001B[49m\n",
      "File \u001B[1;32mD:\\Projects\\drug-conflict-checker\\.venv\\Lib\\site-packages\\torch\\nn\\functional.py:3172\u001B[0m, in \u001B[0;36mbinary_cross_entropy\u001B[1;34m(input, target, weight, size_average, reduce, reduction)\u001B[0m\n\u001B[0;32m   3169\u001B[0m     new_size \u001B[38;5;241m=\u001B[39m _infer_size(target\u001B[38;5;241m.\u001B[39msize(), weight\u001B[38;5;241m.\u001B[39msize())\n\u001B[0;32m   3170\u001B[0m     weight \u001B[38;5;241m=\u001B[39m weight\u001B[38;5;241m.\u001B[39mexpand(new_size)\n\u001B[1;32m-> 3172\u001B[0m \u001B[38;5;28;01mreturn\u001B[39;00m \u001B[43mtorch\u001B[49m\u001B[38;5;241;43m.\u001B[39;49m\u001B[43m_C\u001B[49m\u001B[38;5;241;43m.\u001B[39;49m\u001B[43m_nn\u001B[49m\u001B[38;5;241;43m.\u001B[39;49m\u001B[43mbinary_cross_entropy\u001B[49m\u001B[43m(\u001B[49m\u001B[38;5;28;43minput\u001B[39;49m\u001B[43m,\u001B[49m\u001B[43m \u001B[49m\u001B[43mtarget\u001B[49m\u001B[43m,\u001B[49m\u001B[43m \u001B[49m\u001B[43mweight\u001B[49m\u001B[43m,\u001B[49m\u001B[43m \u001B[49m\u001B[43mreduction_enum\u001B[49m\u001B[43m)\u001B[49m\n",
      "\u001B[1;31mRuntimeError\u001B[0m: all elements of target should be between 0 and 1"
     ]
    }
   ],
   "execution_count": 8
  },
  {
   "metadata": {
    "ExecuteTime": {
     "end_time": "2024-08-09T05:58:25.907069Z",
     "start_time": "2024-08-09T05:58:25.675961Z"
    }
   },
   "cell_type": "code",
   "source": "print(f\"Unique Label Values: {labels.unique()}\")",
   "id": "3529f9f8ff1028bc",
   "outputs": [
    {
     "ename": "RuntimeError",
     "evalue": "CUDA error: device-side assert triggered\nCUDA kernel errors might be asynchronously reported at some other API call, so the stacktrace below might be incorrect.\nFor debugging consider passing CUDA_LAUNCH_BLOCKING=1\nCompile with `TORCH_USE_CUDA_DSA` to enable device-side assertions.\n",
     "output_type": "error",
     "traceback": [
      "\u001B[1;31m---------------------------------------------------------------------------\u001B[0m",
      "\u001B[1;31mRuntimeError\u001B[0m                              Traceback (most recent call last)",
      "Cell \u001B[1;32mIn[13], line 1\u001B[0m\n\u001B[1;32m----> 1\u001B[0m \u001B[38;5;28mprint\u001B[39m(\u001B[38;5;124mf\u001B[39m\u001B[38;5;124m\"\u001B[39m\u001B[38;5;124mUnique Label Values: \u001B[39m\u001B[38;5;132;01m{\u001B[39;00m\u001B[43mlabels\u001B[49m\u001B[38;5;241;43m.\u001B[39;49m\u001B[43munique\u001B[49m\u001B[43m(\u001B[49m\u001B[43m)\u001B[49m\u001B[38;5;132;01m}\u001B[39;00m\u001B[38;5;124m\"\u001B[39m)\n",
      "File \u001B[1;32mD:\\Projects\\drug-conflict-checker\\.venv\\Lib\\site-packages\\torch\\_tensor.py:934\u001B[0m, in \u001B[0;36mTensor.unique\u001B[1;34m(self, sorted, return_inverse, return_counts, dim)\u001B[0m\n\u001B[0;32m    924\u001B[0m \u001B[38;5;28;01mif\u001B[39;00m has_torch_function_unary(\u001B[38;5;28mself\u001B[39m):\n\u001B[0;32m    925\u001B[0m     \u001B[38;5;28;01mreturn\u001B[39;00m handle_torch_function(\n\u001B[0;32m    926\u001B[0m         Tensor\u001B[38;5;241m.\u001B[39munique,\n\u001B[0;32m    927\u001B[0m         (\u001B[38;5;28mself\u001B[39m,),\n\u001B[1;32m   (...)\u001B[0m\n\u001B[0;32m    932\u001B[0m         dim\u001B[38;5;241m=\u001B[39mdim,\n\u001B[0;32m    933\u001B[0m     )\n\u001B[1;32m--> 934\u001B[0m \u001B[38;5;28;01mreturn\u001B[39;00m \u001B[43mtorch\u001B[49m\u001B[38;5;241;43m.\u001B[39;49m\u001B[43munique\u001B[49m\u001B[43m(\u001B[49m\n\u001B[0;32m    935\u001B[0m \u001B[43m    \u001B[49m\u001B[38;5;28;43mself\u001B[39;49m\u001B[43m,\u001B[49m\n\u001B[0;32m    936\u001B[0m \u001B[43m    \u001B[49m\u001B[38;5;28;43msorted\u001B[39;49m\u001B[38;5;241;43m=\u001B[39;49m\u001B[38;5;28;43msorted\u001B[39;49m\u001B[43m,\u001B[49m\n\u001B[0;32m    937\u001B[0m \u001B[43m    \u001B[49m\u001B[43mreturn_inverse\u001B[49m\u001B[38;5;241;43m=\u001B[39;49m\u001B[43mreturn_inverse\u001B[49m\u001B[43m,\u001B[49m\n\u001B[0;32m    938\u001B[0m \u001B[43m    \u001B[49m\u001B[43mreturn_counts\u001B[49m\u001B[38;5;241;43m=\u001B[39;49m\u001B[43mreturn_counts\u001B[49m\u001B[43m,\u001B[49m\n\u001B[0;32m    939\u001B[0m \u001B[43m    \u001B[49m\u001B[43mdim\u001B[49m\u001B[38;5;241;43m=\u001B[39;49m\u001B[43mdim\u001B[49m\u001B[43m,\u001B[49m\n\u001B[0;32m    940\u001B[0m \u001B[43m\u001B[49m\u001B[43m)\u001B[49m\n",
      "File \u001B[1;32mD:\\Projects\\drug-conflict-checker\\.venv\\Lib\\site-packages\\torch\\_jit_internal.py:503\u001B[0m, in \u001B[0;36mboolean_dispatch.<locals>.fn\u001B[1;34m(*args, **kwargs)\u001B[0m\n\u001B[0;32m    501\u001B[0m     \u001B[38;5;28;01mreturn\u001B[39;00m if_true(\u001B[38;5;241m*\u001B[39margs, \u001B[38;5;241m*\u001B[39m\u001B[38;5;241m*\u001B[39mkwargs)\n\u001B[0;32m    502\u001B[0m \u001B[38;5;28;01melse\u001B[39;00m:\n\u001B[1;32m--> 503\u001B[0m     \u001B[38;5;28;01mreturn\u001B[39;00m \u001B[43mif_false\u001B[49m\u001B[43m(\u001B[49m\u001B[38;5;241;43m*\u001B[39;49m\u001B[43margs\u001B[49m\u001B[43m,\u001B[49m\u001B[43m \u001B[49m\u001B[38;5;241;43m*\u001B[39;49m\u001B[38;5;241;43m*\u001B[39;49m\u001B[43mkwargs\u001B[49m\u001B[43m)\u001B[49m\n",
      "File \u001B[1;32mD:\\Projects\\drug-conflict-checker\\.venv\\Lib\\site-packages\\torch\\_jit_internal.py:503\u001B[0m, in \u001B[0;36mboolean_dispatch.<locals>.fn\u001B[1;34m(*args, **kwargs)\u001B[0m\n\u001B[0;32m    501\u001B[0m     \u001B[38;5;28;01mreturn\u001B[39;00m if_true(\u001B[38;5;241m*\u001B[39margs, \u001B[38;5;241m*\u001B[39m\u001B[38;5;241m*\u001B[39mkwargs)\n\u001B[0;32m    502\u001B[0m \u001B[38;5;28;01melse\u001B[39;00m:\n\u001B[1;32m--> 503\u001B[0m     \u001B[38;5;28;01mreturn\u001B[39;00m \u001B[43mif_false\u001B[49m\u001B[43m(\u001B[49m\u001B[38;5;241;43m*\u001B[39;49m\u001B[43margs\u001B[49m\u001B[43m,\u001B[49m\u001B[43m \u001B[49m\u001B[38;5;241;43m*\u001B[39;49m\u001B[38;5;241;43m*\u001B[39;49m\u001B[43mkwargs\u001B[49m\u001B[43m)\u001B[49m\n",
      "File \u001B[1;32mD:\\Projects\\drug-conflict-checker\\.venv\\Lib\\site-packages\\torch\\functional.py:997\u001B[0m, in \u001B[0;36m_return_output\u001B[1;34m(input, sorted, return_inverse, return_counts, dim)\u001B[0m\n\u001B[0;32m    994\u001B[0m \u001B[38;5;28;01mif\u001B[39;00m has_torch_function_unary(\u001B[38;5;28minput\u001B[39m):\n\u001B[0;32m    995\u001B[0m     \u001B[38;5;28;01mreturn\u001B[39;00m _unique_impl(\u001B[38;5;28minput\u001B[39m, \u001B[38;5;28msorted\u001B[39m, return_inverse, return_counts, dim)\n\u001B[1;32m--> 997\u001B[0m output, _, _ \u001B[38;5;241m=\u001B[39m \u001B[43m_unique_impl\u001B[49m\u001B[43m(\u001B[49m\u001B[38;5;28;43minput\u001B[39;49m\u001B[43m,\u001B[49m\u001B[43m \u001B[49m\u001B[38;5;28;43msorted\u001B[39;49m\u001B[43m,\u001B[49m\u001B[43m \u001B[49m\u001B[43mreturn_inverse\u001B[49m\u001B[43m,\u001B[49m\u001B[43m \u001B[49m\u001B[43mreturn_counts\u001B[49m\u001B[43m,\u001B[49m\u001B[43m \u001B[49m\u001B[43mdim\u001B[49m\u001B[43m)\u001B[49m\n\u001B[0;32m    998\u001B[0m \u001B[38;5;28;01mreturn\u001B[39;00m output\n",
      "File \u001B[1;32mD:\\Projects\\drug-conflict-checker\\.venv\\Lib\\site-packages\\torch\\functional.py:911\u001B[0m, in \u001B[0;36m_unique_impl\u001B[1;34m(input, sorted, return_inverse, return_counts, dim)\u001B[0m\n\u001B[0;32m    903\u001B[0m     output, inverse_indices, counts \u001B[38;5;241m=\u001B[39m _VF\u001B[38;5;241m.\u001B[39munique_dim(\n\u001B[0;32m    904\u001B[0m         \u001B[38;5;28minput\u001B[39m,\n\u001B[0;32m    905\u001B[0m         dim,\n\u001B[1;32m   (...)\u001B[0m\n\u001B[0;32m    908\u001B[0m         return_counts\u001B[38;5;241m=\u001B[39mreturn_counts,\n\u001B[0;32m    909\u001B[0m     )\n\u001B[0;32m    910\u001B[0m \u001B[38;5;28;01melse\u001B[39;00m:\n\u001B[1;32m--> 911\u001B[0m     output, inverse_indices, counts \u001B[38;5;241m=\u001B[39m \u001B[43mtorch\u001B[49m\u001B[38;5;241;43m.\u001B[39;49m\u001B[43m_unique2\u001B[49m\u001B[43m(\u001B[49m\n\u001B[0;32m    912\u001B[0m \u001B[43m        \u001B[49m\u001B[38;5;28;43minput\u001B[39;49m\u001B[43m,\u001B[49m\n\u001B[0;32m    913\u001B[0m \u001B[43m        \u001B[49m\u001B[38;5;28;43msorted\u001B[39;49m\u001B[38;5;241;43m=\u001B[39;49m\u001B[38;5;28;43msorted\u001B[39;49m\u001B[43m,\u001B[49m\n\u001B[0;32m    914\u001B[0m \u001B[43m        \u001B[49m\u001B[43mreturn_inverse\u001B[49m\u001B[38;5;241;43m=\u001B[39;49m\u001B[43mreturn_inverse\u001B[49m\u001B[43m,\u001B[49m\n\u001B[0;32m    915\u001B[0m \u001B[43m        \u001B[49m\u001B[43mreturn_counts\u001B[49m\u001B[38;5;241;43m=\u001B[39;49m\u001B[43mreturn_counts\u001B[49m\u001B[43m,\u001B[49m\n\u001B[0;32m    916\u001B[0m \u001B[43m    \u001B[49m\u001B[43m)\u001B[49m\n\u001B[0;32m    917\u001B[0m \u001B[38;5;28;01mreturn\u001B[39;00m output, inverse_indices, counts\n",
      "\u001B[1;31mRuntimeError\u001B[0m: CUDA error: device-side assert triggered\nCUDA kernel errors might be asynchronously reported at some other API call, so the stacktrace below might be incorrect.\nFor debugging consider passing CUDA_LAUNCH_BLOCKING=1\nCompile with `TORCH_USE_CUDA_DSA` to enable device-side assertions.\n"
     ]
    }
   ],
   "execution_count": 13
  },
  {
   "metadata": {},
   "cell_type": "markdown",
   "source": "### 3. Evaluating the GNN Model",
   "id": "293b2029b7bafff4"
  },
  {
   "metadata": {
    "ExecuteTime": {
     "end_time": "2024-08-09T05:43:40.475065Z",
     "start_time": "2024-08-09T05:43:40.356290Z"
    }
   },
   "cell_type": "code",
   "source": [
    "def evaluate():\n",
    "    model.eval()\n",
    "    with torch.no_grad():\n",
    "        out = model(data)\n",
    "        predictions = (out >= 0.5).long()\n",
    "        correct = (predictions == labels).sum().item()\n",
    "        accuracy = correct / labels.size(0)\n",
    "        return accuracy\n",
    "\n",
    "accuracy = evaluate()\n",
    "print(f'Accuracy: {accuracy}')"
   ],
   "id": "d2aa2f6118374a36",
   "outputs": [
    {
     "name": "stdout",
     "output_type": "stream",
     "text": [
      "Accuracy: 1.0\n"
     ]
    }
   ],
   "execution_count": 45
  },
  {
   "metadata": {},
   "cell_type": "markdown",
   "source": "### 4. Predicting New Drug Interactions",
   "id": "e406ca12cd9e3aa6"
  },
  {
   "metadata": {
    "ExecuteTime": {
     "end_time": "2024-08-09T05:45:14.735863Z",
     "start_time": "2024-08-09T05:45:13.437886Z"
    }
   },
   "cell_type": "code",
   "source": [
    "def predict_interaction_gnn(drug_a, drug_b):\n",
    "    model.eval()\n",
    "    with torch.no_grad():\n",
    "        # Getting indices of the drugs\n",
    "        idx_a = drug_to_index[drug_a]\n",
    "        idx_b = drug_to_index[drug_b]\n",
    "        \n",
    "        # Creating edge_index tensor for this pair\n",
    "        edge_index = torch.tensor([[idx_a], [idx_b]], dtype=torch.long).to(device)\n",
    "\n",
    "        # Create a temporary Data object\n",
    "        # Since the model processes the entire graph, we'll use the existing node embeddings -> data.x\n",
    "        temp_data = Data(x=data.x, edge_index=edge_index)\n",
    "        temp_data = temp_data.to(device)\n",
    "        \n",
    "        # Get Prediction - Probability between 0 and 1\n",
    "        prediction = model(temp_data).item()\n",
    "        \n",
    "        return prediction  \n",
    "\n",
    "prediction_classes = {\n",
    "    (0.7, 1): 'major',\n",
    "    (0.4, 0.7): 'moderate',\n",
    "    (0.1, 0.4): 'minor',\n",
    "    (0, 0.1): 'unknown'\n",
    "}\n",
    "new_predictions = []\n",
    "for drug_a, drug_b in drug_pairs:\n",
    "    severity_significance = predict_interaction_gnn(drug_a, drug_b)\n",
    "    for (lower, upper), severity in prediction_classes.items():\n",
    "        if lower <= severity_significance < upper:\n",
    "            new_predictions.append((drug_a, drug_b, severity, severity_significance))\n",
    "            break\n",
    "new_predictions = pd.DataFrame(new_predictions, columns=['A', 'B', 'Severity', 'Significance'])\n",
    "new_predictions.head()"
   ],
   "id": "856a4aa24e1999af",
   "outputs": [
    {
     "data": {
      "text/plain": [
       "                           A                    B Severity  Significance\n",
       "0         Trichlormethiazide         Calcipotriol  unknown  3.081682e-33\n",
       "1                  Enalapril            Estazolam  unknown  6.035020e-33\n",
       "2  Cetylpyridinium (topical)       Valganciclovir  unknown  1.985426e-29\n",
       "3                  Sirolimus            Tipiracil  unknown  6.474631e-33\n",
       "4             Racepinephrine  Magnesium carbonate  unknown  3.900321e-34"
      ],
      "text/html": [
       "<div>\n",
       "<style scoped>\n",
       "    .dataframe tbody tr th:only-of-type {\n",
       "        vertical-align: middle;\n",
       "    }\n",
       "\n",
       "    .dataframe tbody tr th {\n",
       "        vertical-align: top;\n",
       "    }\n",
       "\n",
       "    .dataframe thead th {\n",
       "        text-align: right;\n",
       "    }\n",
       "</style>\n",
       "<table border=\"1\" class=\"dataframe\">\n",
       "  <thead>\n",
       "    <tr style=\"text-align: right;\">\n",
       "      <th></th>\n",
       "      <th>A</th>\n",
       "      <th>B</th>\n",
       "      <th>Severity</th>\n",
       "      <th>Significance</th>\n",
       "    </tr>\n",
       "  </thead>\n",
       "  <tbody>\n",
       "    <tr>\n",
       "      <th>0</th>\n",
       "      <td>Trichlormethiazide</td>\n",
       "      <td>Calcipotriol</td>\n",
       "      <td>unknown</td>\n",
       "      <td>3.081682e-33</td>\n",
       "    </tr>\n",
       "    <tr>\n",
       "      <th>1</th>\n",
       "      <td>Enalapril</td>\n",
       "      <td>Estazolam</td>\n",
       "      <td>unknown</td>\n",
       "      <td>6.035020e-33</td>\n",
       "    </tr>\n",
       "    <tr>\n",
       "      <th>2</th>\n",
       "      <td>Cetylpyridinium (topical)</td>\n",
       "      <td>Valganciclovir</td>\n",
       "      <td>unknown</td>\n",
       "      <td>1.985426e-29</td>\n",
       "    </tr>\n",
       "    <tr>\n",
       "      <th>3</th>\n",
       "      <td>Sirolimus</td>\n",
       "      <td>Tipiracil</td>\n",
       "      <td>unknown</td>\n",
       "      <td>6.474631e-33</td>\n",
       "    </tr>\n",
       "    <tr>\n",
       "      <th>4</th>\n",
       "      <td>Racepinephrine</td>\n",
       "      <td>Magnesium carbonate</td>\n",
       "      <td>unknown</td>\n",
       "      <td>3.900321e-34</td>\n",
       "    </tr>\n",
       "  </tbody>\n",
       "</table>\n",
       "</div>"
      ]
     },
     "execution_count": 46,
     "metadata": {},
     "output_type": "execute_result"
    }
   ],
   "execution_count": 46
  },
  {
   "metadata": {
    "ExecuteTime": {
     "end_time": "2024-08-09T05:45:17.927974Z",
     "start_time": "2024-08-09T05:45:17.914548Z"
    }
   },
   "cell_type": "code",
   "source": [
    "import numpy as np\n",
    "print(np.bincount(labels.cpu().numpy().astype(int)))"
   ],
   "id": "e0630087900fc482",
   "outputs": [
    {
     "name": "stdout",
     "output_type": "stream",
     "text": [
      "[160235]\n"
     ]
    }
   ],
   "execution_count": 47
  },
  {
   "metadata": {
    "ExecuteTime": {
     "end_time": "2024-08-09T05:45:49.795152Z",
     "start_time": "2024-08-09T05:45:49.764595Z"
    }
   },
   "cell_type": "code",
   "source": "labels.unique()",
   "id": "eb98f71fc3c65406",
   "outputs": [
    {
     "data": {
      "text/plain": [
       "tensor([0.], device='cuda:0')"
      ]
     },
     "execution_count": 49,
     "metadata": {},
     "output_type": "execute_result"
    }
   ],
   "execution_count": 49
  },
  {
   "metadata": {},
   "cell_type": "code",
   "outputs": [],
   "execution_count": null,
   "source": "",
   "id": "bfac2e03a2b8c1e7"
  }
 ],
 "metadata": {
  "kernelspec": {
   "display_name": "Python 3",
   "language": "python",
   "name": "python3"
  },
  "language_info": {
   "codemirror_mode": {
    "name": "ipython",
    "version": 2
   },
   "file_extension": ".py",
   "mimetype": "text/x-python",
   "name": "python",
   "nbconvert_exporter": "python",
   "pygments_lexer": "ipython2",
   "version": "2.7.6"
  }
 },
 "nbformat": 4,
 "nbformat_minor": 5
}
